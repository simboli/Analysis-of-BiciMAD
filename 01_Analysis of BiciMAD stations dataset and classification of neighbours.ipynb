{
 "cells": [
  {
   "cell_type": "markdown",
   "metadata": {},
   "source": [
    "# Modules"
   ]
  },
  {
   "cell_type": "code",
   "execution_count": 1,
   "metadata": {},
   "outputs": [],
   "source": [
    "import json\n",
    "import pandas as pd\n",
    "import matplotlib.pyplot as plt"
   ]
  },
  {
   "cell_type": "markdown",
   "metadata": {},
   "source": [
    "# Variables"
   ]
  },
  {
   "cell_type": "code",
   "execution_count": 2,
   "metadata": {},
   "outputs": [],
   "source": [
    "stations_FilePath='/Users/nicolaesse/Documents/Data science/Py/Analisi biciclette Madrid/Stations analysis/Bicimad_Estacions_201809.json'"
   ]
  },
  {
   "cell_type": "markdown",
   "metadata": {},
   "source": [
    "# Exploratory data analysis"
   ]
  },
  {
   "cell_type": "code",
   "execution_count": 3,
   "metadata": {},
   "outputs": [],
   "source": [
    "geoJsonFile = []\n",
    "\n",
    "for line in open(stations_FilePath, 'r', encoding='latin-1'):\n",
    "    geoJsonFile.append(json.loads(line))"
   ]
  },
  {
   "cell_type": "code",
   "execution_count": 4,
   "metadata": {},
   "outputs": [
    {
     "name": "stdout",
     "output_type": "stream",
     "text": [
      "2018-09-30T23:42:38.647290\n"
     ]
    }
   ],
   "source": [
    "print(geoJsonFile[0]['_id'])"
   ]
  },
  {
   "cell_type": "code",
   "execution_count": 5,
   "metadata": {},
   "outputs": [
    {
     "data": {
      "text/html": [
       "<div>\n",
       "<style scoped>\n",
       "    .dataframe tbody tr th:only-of-type {\n",
       "        vertical-align: middle;\n",
       "    }\n",
       "\n",
       "    .dataframe tbody tr th {\n",
       "        vertical-align: top;\n",
       "    }\n",
       "\n",
       "    .dataframe thead th {\n",
       "        text-align: right;\n",
       "    }\n",
       "</style>\n",
       "<table border=\"1\" class=\"dataframe\">\n",
       "  <thead>\n",
       "    <tr style=\"text-align: right;\">\n",
       "      <th></th>\n",
       "      <th>activate</th>\n",
       "      <th>address</th>\n",
       "      <th>dock_bikes</th>\n",
       "      <th>free_bases</th>\n",
       "      <th>id</th>\n",
       "      <th>latitude</th>\n",
       "      <th>light</th>\n",
       "      <th>longitude</th>\n",
       "      <th>name</th>\n",
       "      <th>no_available</th>\n",
       "      <th>number</th>\n",
       "      <th>reservations_count</th>\n",
       "      <th>total_bases</th>\n",
       "    </tr>\n",
       "  </thead>\n",
       "  <tbody>\n",
       "    <tr>\n",
       "      <th>0</th>\n",
       "      <td>1</td>\n",
       "      <td>Puerta del Sol nº 1</td>\n",
       "      <td>1</td>\n",
       "      <td>21</td>\n",
       "      <td>1</td>\n",
       "      <td>40.4168961</td>\n",
       "      <td>0</td>\n",
       "      <td>-3.7024255</td>\n",
       "      <td>Puerta del Sol A</td>\n",
       "      <td>0</td>\n",
       "      <td>1a</td>\n",
       "      <td>1</td>\n",
       "      <td>24</td>\n",
       "    </tr>\n",
       "    <tr>\n",
       "      <th>1</th>\n",
       "      <td>1</td>\n",
       "      <td>Puerta del Sol nº 1</td>\n",
       "      <td>7</td>\n",
       "      <td>16</td>\n",
       "      <td>2</td>\n",
       "      <td>40.4170009</td>\n",
       "      <td>0</td>\n",
       "      <td>-3.7024207</td>\n",
       "      <td>Puerta del Sol B</td>\n",
       "      <td>0</td>\n",
       "      <td>1b</td>\n",
       "      <td>0</td>\n",
       "      <td>24</td>\n",
       "    </tr>\n",
       "    <tr>\n",
       "      <th>2</th>\n",
       "      <td>1</td>\n",
       "      <td>Calle Miguel Moya nº 1</td>\n",
       "      <td>0</td>\n",
       "      <td>21</td>\n",
       "      <td>3</td>\n",
       "      <td>40.4205886</td>\n",
       "      <td>0</td>\n",
       "      <td>-3.7058415</td>\n",
       "      <td>Miguel Moya</td>\n",
       "      <td>0</td>\n",
       "      <td>2</td>\n",
       "      <td>0</td>\n",
       "      <td>24</td>\n",
       "    </tr>\n",
       "    <tr>\n",
       "      <th>3</th>\n",
       "      <td>1</td>\n",
       "      <td>Plaza del Conde Suchil nº 2-4</td>\n",
       "      <td>4</td>\n",
       "      <td>14</td>\n",
       "      <td>4</td>\n",
       "      <td>40.4302937</td>\n",
       "      <td>0</td>\n",
       "      <td>-3.7069171</td>\n",
       "      <td>Plaza Conde Suchil</td>\n",
       "      <td>0</td>\n",
       "      <td>3</td>\n",
       "      <td>0</td>\n",
       "      <td>18</td>\n",
       "    </tr>\n",
       "    <tr>\n",
       "      <th>4</th>\n",
       "      <td>1</td>\n",
       "      <td>Calle Manuela Malasaña nº 5</td>\n",
       "      <td>9</td>\n",
       "      <td>15</td>\n",
       "      <td>5</td>\n",
       "      <td>40.4285524</td>\n",
       "      <td>2</td>\n",
       "      <td>-3.7025875</td>\n",
       "      <td>Malasaña</td>\n",
       "      <td>0</td>\n",
       "      <td>4</td>\n",
       "      <td>0</td>\n",
       "      <td>24</td>\n",
       "    </tr>\n",
       "  </tbody>\n",
       "</table>\n",
       "</div>"
      ],
      "text/plain": [
       "   activate                        address  dock_bikes  free_bases  id  \\\n",
       "0         1            Puerta del Sol nº 1           1          21   1   \n",
       "1         1            Puerta del Sol nº 1           7          16   2   \n",
       "2         1         Calle Miguel Moya nº 1           0          21   3   \n",
       "3         1  Plaza del Conde Suchil nº 2-4           4          14   4   \n",
       "4         1    Calle Manuela Malasaña nº 5           9          15   5   \n",
       "\n",
       "     latitude  light   longitude                name  no_available number  \\\n",
       "0  40.4168961      0  -3.7024255    Puerta del Sol A             0     1a   \n",
       "1  40.4170009      0  -3.7024207    Puerta del Sol B             0     1b   \n",
       "2  40.4205886      0  -3.7058415         Miguel Moya             0      2   \n",
       "3  40.4302937      0  -3.7069171  Plaza Conde Suchil             0      3   \n",
       "4  40.4285524      2  -3.7025875            Malasaña             0      4   \n",
       "\n",
       "   reservations_count  total_bases  \n",
       "0                   1           24  \n",
       "1                   0           24  \n",
       "2                   0           24  \n",
       "3                   0           18  \n",
       "4                   0           24  "
      ]
     },
     "execution_count": 5,
     "metadata": {},
     "output_type": "execute_result"
    }
   ],
   "source": [
    "df_stations = pd.DataFrame(geoJsonFile[0]['stations'])\n",
    "df_stations.head()"
   ]
  },
  {
   "cell_type": "code",
   "execution_count": 6,
   "metadata": {},
   "outputs": [
    {
     "data": {
      "text/plain": [
       "(172, 13)"
      ]
     },
     "execution_count": 6,
     "metadata": {},
     "output_type": "execute_result"
    }
   ],
   "source": [
    "df_stations.shape"
   ]
  },
  {
   "cell_type": "code",
   "execution_count": 7,
   "metadata": {},
   "outputs": [
    {
     "data": {
      "text/plain": [
       "activate              0\n",
       "address               0\n",
       "dock_bikes            0\n",
       "free_bases            0\n",
       "id                    0\n",
       "latitude              0\n",
       "light                 0\n",
       "longitude             0\n",
       "name                  0\n",
       "no_available          0\n",
       "number                0\n",
       "reservations_count    0\n",
       "total_bases           0\n",
       "dtype: int64"
      ]
     },
     "execution_count": 7,
     "metadata": {},
     "output_type": "execute_result"
    }
   ],
   "source": [
    "df_stations.isna().sum()"
   ]
  },
  {
   "cell_type": "code",
   "execution_count": 8,
   "metadata": {},
   "outputs": [
    {
     "data": {
      "text/html": [
       "<div>\n",
       "<style scoped>\n",
       "    .dataframe tbody tr th:only-of-type {\n",
       "        vertical-align: middle;\n",
       "    }\n",
       "\n",
       "    .dataframe tbody tr th {\n",
       "        vertical-align: top;\n",
       "    }\n",
       "\n",
       "    .dataframe thead th {\n",
       "        text-align: right;\n",
       "    }\n",
       "</style>\n",
       "<table border=\"1\" class=\"dataframe\">\n",
       "  <thead>\n",
       "    <tr style=\"text-align: right;\">\n",
       "      <th></th>\n",
       "      <th>activate</th>\n",
       "      <th>dock_bikes</th>\n",
       "      <th>free_bases</th>\n",
       "      <th>id</th>\n",
       "      <th>light</th>\n",
       "      <th>no_available</th>\n",
       "      <th>reservations_count</th>\n",
       "      <th>total_bases</th>\n",
       "    </tr>\n",
       "  </thead>\n",
       "  <tbody>\n",
       "    <tr>\n",
       "      <th>count</th>\n",
       "      <td>172.0</td>\n",
       "      <td>172.000000</td>\n",
       "      <td>172.000000</td>\n",
       "      <td>172.000000</td>\n",
       "      <td>172.000000</td>\n",
       "      <td>172.000000</td>\n",
       "      <td>172.000000</td>\n",
       "      <td>172.000000</td>\n",
       "    </tr>\n",
       "    <tr>\n",
       "      <th>mean</th>\n",
       "      <td>1.0</td>\n",
       "      <td>9.063953</td>\n",
       "      <td>13.023256</td>\n",
       "      <td>88.604651</td>\n",
       "      <td>1.093023</td>\n",
       "      <td>0.029070</td>\n",
       "      <td>0.087209</td>\n",
       "      <td>23.808140</td>\n",
       "    </tr>\n",
       "    <tr>\n",
       "      <th>std</th>\n",
       "      <td>0.0</td>\n",
       "      <td>6.562474</td>\n",
       "      <td>6.653455</td>\n",
       "      <td>50.809650</td>\n",
       "      <td>0.956699</td>\n",
       "      <td>0.168493</td>\n",
       "      <td>0.339348</td>\n",
       "      <td>1.953657</td>\n",
       "    </tr>\n",
       "    <tr>\n",
       "      <th>min</th>\n",
       "      <td>1.0</td>\n",
       "      <td>0.000000</td>\n",
       "      <td>0.000000</td>\n",
       "      <td>1.000000</td>\n",
       "      <td>0.000000</td>\n",
       "      <td>0.000000</td>\n",
       "      <td>0.000000</td>\n",
       "      <td>12.000000</td>\n",
       "    </tr>\n",
       "    <tr>\n",
       "      <th>25%</th>\n",
       "      <td>1.0</td>\n",
       "      <td>3.000000</td>\n",
       "      <td>8.000000</td>\n",
       "      <td>44.750000</td>\n",
       "      <td>0.000000</td>\n",
       "      <td>0.000000</td>\n",
       "      <td>0.000000</td>\n",
       "      <td>24.000000</td>\n",
       "    </tr>\n",
       "    <tr>\n",
       "      <th>50%</th>\n",
       "      <td>1.0</td>\n",
       "      <td>9.000000</td>\n",
       "      <td>13.000000</td>\n",
       "      <td>89.500000</td>\n",
       "      <td>1.000000</td>\n",
       "      <td>0.000000</td>\n",
       "      <td>0.000000</td>\n",
       "      <td>24.000000</td>\n",
       "    </tr>\n",
       "    <tr>\n",
       "      <th>75%</th>\n",
       "      <td>1.0</td>\n",
       "      <td>14.000000</td>\n",
       "      <td>18.250000</td>\n",
       "      <td>132.250000</td>\n",
       "      <td>2.000000</td>\n",
       "      <td>0.000000</td>\n",
       "      <td>0.000000</td>\n",
       "      <td>24.000000</td>\n",
       "    </tr>\n",
       "    <tr>\n",
       "      <th>max</th>\n",
       "      <td>1.0</td>\n",
       "      <td>25.000000</td>\n",
       "      <td>27.000000</td>\n",
       "      <td>175.000000</td>\n",
       "      <td>3.000000</td>\n",
       "      <td>1.000000</td>\n",
       "      <td>2.000000</td>\n",
       "      <td>30.000000</td>\n",
       "    </tr>\n",
       "  </tbody>\n",
       "</table>\n",
       "</div>"
      ],
      "text/plain": [
       "       activate  dock_bikes  free_bases          id       light  no_available  \\\n",
       "count     172.0  172.000000  172.000000  172.000000  172.000000    172.000000   \n",
       "mean        1.0    9.063953   13.023256   88.604651    1.093023      0.029070   \n",
       "std         0.0    6.562474    6.653455   50.809650    0.956699      0.168493   \n",
       "min         1.0    0.000000    0.000000    1.000000    0.000000      0.000000   \n",
       "25%         1.0    3.000000    8.000000   44.750000    0.000000      0.000000   \n",
       "50%         1.0    9.000000   13.000000   89.500000    1.000000      0.000000   \n",
       "75%         1.0   14.000000   18.250000  132.250000    2.000000      0.000000   \n",
       "max         1.0   25.000000   27.000000  175.000000    3.000000      1.000000   \n",
       "\n",
       "       reservations_count  total_bases  \n",
       "count          172.000000   172.000000  \n",
       "mean             0.087209    23.808140  \n",
       "std              0.339348     1.953657  \n",
       "min              0.000000    12.000000  \n",
       "25%              0.000000    24.000000  \n",
       "50%              0.000000    24.000000  \n",
       "75%              0.000000    24.000000  \n",
       "max              2.000000    30.000000  "
      ]
     },
     "execution_count": 8,
     "metadata": {},
     "output_type": "execute_result"
    }
   ],
   "source": [
    "df_stations.describe()"
   ]
  },
  {
   "cell_type": "markdown",
   "metadata": {},
   "source": [
    "# Data cleaning"
   ]
  },
  {
   "cell_type": "markdown",
   "metadata": {},
   "source": [
    "Drop columns unuseful for making a registry of BiciMAD stations."
   ]
  },
  {
   "cell_type": "code",
   "execution_count": 9,
   "metadata": {},
   "outputs": [],
   "source": [
    "columns = ['activate', 'dock_bikes','free_bases','light','no_available','reservations_count']\n",
    "df_stations.drop(columns, inplace=True, axis=1)"
   ]
  },
  {
   "cell_type": "markdown",
   "metadata": {},
   "source": [
    "Check if the column 'id' contains values that are not unique."
   ]
  },
  {
   "cell_type": "code",
   "execution_count": 10,
   "metadata": {},
   "outputs": [],
   "source": [
    "#StNumber_count = df_stations['id'].value_counts()\n",
    "#StNumber_count[StNumber_count>1]"
   ]
  },
  {
   "cell_type": "markdown",
   "metadata": {},
   "source": [
    "Set 'id' as index of the Dataframe."
   ]
  },
  {
   "cell_type": "code",
   "execution_count": 11,
   "metadata": {},
   "outputs": [],
   "source": [
    "#df_stations.set_index('id', inplace=True)\n",
    "#df_stations.head()"
   ]
  },
  {
   "cell_type": "markdown",
   "metadata": {},
   "source": [
    "# Neighbours classification"
   ]
  },
  {
   "cell_type": "markdown",
   "metadata": {},
   "source": [
    "## Modules"
   ]
  },
  {
   "cell_type": "code",
   "execution_count": 12,
   "metadata": {},
   "outputs": [],
   "source": [
    "from shapely.geometry import MultiPolygon\n",
    "from shapely.geometry import asShape\n",
    "from shapely.geometry import Point"
   ]
  },
  {
   "cell_type": "markdown",
   "metadata": {},
   "source": [
    "## Variables and definitions"
   ]
  },
  {
   "cell_type": "code",
   "execution_count": 13,
   "metadata": {},
   "outputs": [],
   "source": [
    "# Dictionary for features data\n",
    "neighbours_multply = []\n",
    "# List for polygon names\n",
    "neighbours_names = []\n",
    "\n",
    "def GeoClass_LoadFile(fname):\n",
    "    global GeoData\n",
    "    with open(fname, encoding=\"utf-8\") as geoJsonFile:\n",
    "        GeoData = json.load(geoJsonFile)\n",
    "        \n",
    "def GeoClass_BuildPolygon():\n",
    "    global neighboursPolygon\n",
    "    for neighbours in GeoData['features']:\n",
    "        if neighbours.get('properties').get('type')=='boundary':\n",
    "            neighbours_shape = asShape(neighbours['geometry'])\n",
    "            neighbours_multply.append(neighbours_shape)\n",
    "            neighbours_names.append(neighbours['properties']['name'])\n",
    "    neighboursPolygon = MultiPolygon(neighbours_multply)\n",
    "\n",
    "def GeoClass_GetPName(point):\n",
    "    i=0\n",
    "    while i < len(neighbours_names):\n",
    "        if neighboursPolygon[i].contains(point):\n",
    "            Resp=neighbours_names[i]\n",
    "        i+=1\n",
    "    return Resp"
   ]
  },
  {
   "cell_type": "markdown",
   "metadata": {},
   "source": [
    "## Classification"
   ]
  },
  {
   "cell_type": "code",
   "execution_count": 14,
   "metadata": {},
   "outputs": [
    {
     "name": "stdout",
     "output_type": "stream",
     "text": [
      "22  polygons loaded\n"
     ]
    }
   ],
   "source": [
    "GeoClass_LoadFile('/Users/nicolaesse/Documents/Data science/Py/Analisi biciclette Madrid/Stations analysis/Madrid_Neighbours.geojson')\n",
    "\n",
    "GeoClass_BuildPolygon()\n",
    "print(len(neighboursPolygon),  ' polygons loaded')"
   ]
  },
  {
   "cell_type": "code",
   "execution_count": 15,
   "metadata": {},
   "outputs": [
    {
     "name": "stdout",
     "output_type": "stream",
     "text": [
      "Polygon 0 : Usera\n",
      "ok\n",
      "Polygon 1 : Villaverde\n",
      "ok\n",
      "Polygon 2 : Villa de Vallecas\n",
      "ok\n",
      "Polygon 3 : Puente de Vallecas\n",
      "ok\n",
      "Polygon 4 : Moratalaz\n",
      "ok\n",
      "Polygon 5 : San Blas\n",
      "ok\n",
      "Polygon 6 : Vicálvaro\n",
      "ok\n",
      "Polygon 7 : Barajas\n",
      "ok\n",
      "Polygon 8 : Hortaleza\n",
      "ok\n",
      "Polygon 9 : Carabanchel\n",
      "ok\n",
      "Polygon 10 : Latina\n",
      "ok\n",
      "Polygon 11 : Moncloa-Aravaca\n",
      "ok\n",
      "Polygon 12 : Centro\n",
      "ok\n",
      "Polygon 13 : Fuencarral-El Pardo\n",
      "ok\n",
      "Polygon 14 : Arganzuela\n",
      "ok\n",
      "Polygon 15 : Retiro\n",
      "ok\n",
      "Polygon 16 : Salamanca\n",
      "ok\n",
      "Polygon 17 : Chamartín\n",
      "ok\n",
      "Polygon 18 : Tetuán\n",
      "ok\n",
      "Polygon 19 : Chamberí\n",
      "ok\n",
      "Polygon 20 : Sector III (Cerro Buenavista)\n",
      "ok\n",
      "Polygon 21 : Ciudad Lineal\n",
      "ok\n"
     ]
    }
   ],
   "source": [
    "i=0\n",
    "while i < len(neighboursPolygon):\n",
    "    print('Polygon', i, ':', neighbours_names[i])\n",
    "    if(neighboursPolygon[i].is_valid):\n",
    "        print('ok')\n",
    "    else:\n",
    "        print('this polygon is invalid')\n",
    "    i+=1"
   ]
  },
  {
   "cell_type": "markdown",
   "metadata": {},
   "source": [
    "Every polygons is valid, so I make a basic test trying to classify the Terminal T4S of the Madrid Airport."
   ]
  },
  {
   "cell_type": "code",
   "execution_count": 16,
   "metadata": {},
   "outputs": [
    {
     "data": {
      "text/plain": [
       "'Barajas'"
      ]
     },
     "execution_count": 16,
     "metadata": {},
     "output_type": "execute_result"
    }
   ],
   "source": [
    "AirportPoint=Point(-3.566667, 40.493333) \n",
    "GeoClass_GetPName(AirportPoint)"
   ]
  },
  {
   "cell_type": "code",
   "execution_count": 17,
   "metadata": {},
   "outputs": [
    {
     "data": {
      "text/plain": [
       "array(['Centro', 'Chamberí', 'Moncloa-Aravaca', 'Arganzuela', 'Retiro',\n",
       "       'Salamanca', 'Tetuán', 'Chamartín'], dtype=object)"
      ]
     },
     "execution_count": 17,
     "metadata": {},
     "output_type": "execute_result"
    }
   ],
   "source": [
    "df_stations['neighbours'] = df_stations.apply(lambda row: GeoClass_GetPName(Point(pd.to_numeric(row['longitude']),pd.to_numeric(row['latitude']))), axis=1)\n",
    "df_stations['neighbours'].unique()"
   ]
  },
  {
   "cell_type": "markdown",
   "metadata": {},
   "source": [
    "# Analysis"
   ]
  },
  {
   "cell_type": "markdown",
   "metadata": {},
   "source": [
    "Calculate number of total bases"
   ]
  },
  {
   "cell_type": "code",
   "execution_count": 18,
   "metadata": {},
   "outputs": [
    {
     "data": {
      "text/plain": [
       "4095"
      ]
     },
     "execution_count": 18,
     "metadata": {},
     "output_type": "execute_result"
    }
   ],
   "source": [
    "df_stations['total_bases'].agg('sum')"
   ]
  },
  {
   "cell_type": "markdown",
   "metadata": {},
   "source": [
    "Calculate the number of bases for each neighbours"
   ]
  },
  {
   "cell_type": "code",
   "execution_count": 19,
   "metadata": {},
   "outputs": [
    {
     "data": {
      "text/plain": [
       "neighbours\n",
       "Arganzuela          342\n",
       "Centro             1380\n",
       "Chamartín           306\n",
       "Chamberí            437\n",
       "Moncloa-Aravaca     243\n",
       "Retiro              550\n",
       "Salamanca           669\n",
       "Tetuán              168\n",
       "Name: total_bases, dtype: int64"
      ]
     },
     "execution_count": 19,
     "metadata": {},
     "output_type": "execute_result"
    }
   ],
   "source": [
    "df_stations.groupby(['neighbours'])['total_bases'].agg('sum')"
   ]
  },
  {
   "cell_type": "markdown",
   "metadata": {},
   "source": [
    "Show the most capable stations of the network"
   ]
  },
  {
   "cell_type": "code",
   "execution_count": 20,
   "metadata": {},
   "outputs": [
    {
     "data": {
      "text/html": [
       "<div>\n",
       "<style scoped>\n",
       "    .dataframe tbody tr th:only-of-type {\n",
       "        vertical-align: middle;\n",
       "    }\n",
       "\n",
       "    .dataframe tbody tr th {\n",
       "        vertical-align: top;\n",
       "    }\n",
       "\n",
       "    .dataframe thead th {\n",
       "        text-align: right;\n",
       "    }\n",
       "</style>\n",
       "<table border=\"1\" class=\"dataframe\">\n",
       "  <thead>\n",
       "    <tr style=\"text-align: right;\">\n",
       "      <th></th>\n",
       "      <th>name</th>\n",
       "      <th>total_bases</th>\n",
       "    </tr>\n",
       "  </thead>\n",
       "  <tbody>\n",
       "    <tr>\n",
       "      <th>20</th>\n",
       "      <td>Banco de España A</td>\n",
       "      <td>30</td>\n",
       "    </tr>\n",
       "    <tr>\n",
       "      <th>91</th>\n",
       "      <td>General Pardiñas</td>\n",
       "      <td>30</td>\n",
       "    </tr>\n",
       "    <tr>\n",
       "      <th>5</th>\n",
       "      <td>Fuencarral</td>\n",
       "      <td>27</td>\n",
       "    </tr>\n",
       "    <tr>\n",
       "      <th>32</th>\n",
       "      <td>San Quintín</td>\n",
       "      <td>27</td>\n",
       "    </tr>\n",
       "    <tr>\n",
       "      <th>33</th>\n",
       "      <td>Calle Mayor</td>\n",
       "      <td>27</td>\n",
       "    </tr>\n",
       "  </tbody>\n",
       "</table>\n",
       "</div>"
      ],
      "text/plain": [
       "                 name  total_bases\n",
       "20  Banco de España A           30\n",
       "91   General Pardiñas           30\n",
       "5          Fuencarral           27\n",
       "32        San Quintín           27\n",
       "33        Calle Mayor           27"
      ]
     },
     "execution_count": 20,
     "metadata": {},
     "output_type": "execute_result"
    }
   ],
   "source": [
    "df_stations.nlargest(5, 'total_bases')[['name','total_bases']]"
   ]
  },
  {
   "cell_type": "markdown",
   "metadata": {},
   "source": [
    "Show the less capable stations of the network"
   ]
  },
  {
   "cell_type": "code",
   "execution_count": 21,
   "metadata": {},
   "outputs": [
    {
     "data": {
      "text/html": [
       "<div>\n",
       "<style scoped>\n",
       "    .dataframe tbody tr th:only-of-type {\n",
       "        vertical-align: middle;\n",
       "    }\n",
       "\n",
       "    .dataframe tbody tr th {\n",
       "        vertical-align: top;\n",
       "    }\n",
       "\n",
       "    .dataframe thead th {\n",
       "        text-align: right;\n",
       "    }\n",
       "</style>\n",
       "<table border=\"1\" class=\"dataframe\">\n",
       "  <thead>\n",
       "    <tr style=\"text-align: right;\">\n",
       "      <th></th>\n",
       "      <th>name</th>\n",
       "      <th>total_bases</th>\n",
       "    </tr>\n",
       "  </thead>\n",
       "  <tbody>\n",
       "    <tr>\n",
       "      <th>145</th>\n",
       "      <td>Pº Castellana - Glorieta de Emilio Castelar</td>\n",
       "      <td>12</td>\n",
       "    </tr>\n",
       "    <tr>\n",
       "      <th>3</th>\n",
       "      <td>Plaza Conde Suchil</td>\n",
       "      <td>18</td>\n",
       "    </tr>\n",
       "    <tr>\n",
       "      <th>34</th>\n",
       "      <td>Plaza de la Provincia</td>\n",
       "      <td>18</td>\n",
       "    </tr>\n",
       "    <tr>\n",
       "      <th>107</th>\n",
       "      <td>Colón A</td>\n",
       "      <td>18</td>\n",
       "    </tr>\n",
       "    <tr>\n",
       "      <th>108</th>\n",
       "      <td>Colón B</td>\n",
       "      <td>18</td>\n",
       "    </tr>\n",
       "  </tbody>\n",
       "</table>\n",
       "</div>"
      ],
      "text/plain": [
       "                                            name  total_bases\n",
       "145  Pº Castellana - Glorieta de Emilio Castelar           12\n",
       "3                             Plaza Conde Suchil           18\n",
       "34                         Plaza de la Provincia           18\n",
       "107                                      Colón A           18\n",
       "108                                      Colón B           18"
      ]
     },
     "execution_count": 21,
     "metadata": {},
     "output_type": "execute_result"
    }
   ],
   "source": [
    "df_stations.nsmallest(5, 'total_bases')[['name','total_bases']]"
   ]
  },
  {
   "cell_type": "code",
   "execution_count": 22,
   "metadata": {},
   "outputs": [
    {
     "data": {
      "text/plain": [
       "array([[<matplotlib.axes._subplots.AxesSubplot object at 0x1166ca198>]],\n",
       "      dtype=object)"
      ]
     },
     "execution_count": 22,
     "metadata": {},
     "output_type": "execute_result"
    },
    {
     "data": {
      "image/png": "[encoded data removed]",
      "text/plain": [
       "<Figure size 432x288 with 1 Axes>"
      ]
     },
     "metadata": {},
     "output_type": "display_data"
    }
   ],
   "source": [
    "range=(10,60)\n",
    "bins=50\n",
    "df_stations.hist(column='total_bases', bins=bins, range=range, histtype='bar', facecolor='red', edgecolor='gray', rwidth=2, alpha=0.75)"
   ]
  },
  {
   "cell_type": "markdown",
   "metadata": {},
   "source": [
    "# Export"
   ]
  },
  {
   "cell_type": "code",
   "execution_count": 23,
   "metadata": {},
   "outputs": [],
   "source": [
    "df_stations.to_csv('df_stations.csv', encoding='latin-1', sep=';', index=False)"
   ]
  },
  {
   "cell_type": "code",
   "execution_count": 24,
   "metadata": {},
   "outputs": [
    {
     "data": {
      "text/html": [
       "<div>\n",
       "<style scoped>\n",
       "    .dataframe tbody tr th:only-of-type {\n",
       "        vertical-align: middle;\n",
       "    }\n",
       "\n",
       "    .dataframe tbody tr th {\n",
       "        vertical-align: top;\n",
       "    }\n",
       "\n",
       "    .dataframe thead th {\n",
       "        text-align: right;\n",
       "    }\n",
       "</style>\n",
       "<table border=\"1\" class=\"dataframe\">\n",
       "  <thead>\n",
       "    <tr style=\"text-align: right;\">\n",
       "      <th></th>\n",
       "      <th>address</th>\n",
       "      <th>id</th>\n",
       "      <th>latitude</th>\n",
       "      <th>longitude</th>\n",
       "      <th>name</th>\n",
       "      <th>number</th>\n",
       "      <th>total_bases</th>\n",
       "      <th>neighbours</th>\n",
       "    </tr>\n",
       "  </thead>\n",
       "  <tbody>\n",
       "    <tr>\n",
       "      <th>0</th>\n",
       "      <td>Puerta del Sol nº 1</td>\n",
       "      <td>1</td>\n",
       "      <td>40.4168961</td>\n",
       "      <td>-3.7024255</td>\n",
       "      <td>Puerta del Sol A</td>\n",
       "      <td>1a</td>\n",
       "      <td>24</td>\n",
       "      <td>Centro</td>\n",
       "    </tr>\n",
       "    <tr>\n",
       "      <th>1</th>\n",
       "      <td>Puerta del Sol nº 1</td>\n",
       "      <td>2</td>\n",
       "      <td>40.4170009</td>\n",
       "      <td>-3.7024207</td>\n",
       "      <td>Puerta del Sol B</td>\n",
       "      <td>1b</td>\n",
       "      <td>24</td>\n",
       "      <td>Centro</td>\n",
       "    </tr>\n",
       "    <tr>\n",
       "      <th>2</th>\n",
       "      <td>Calle Miguel Moya nº 1</td>\n",
       "      <td>3</td>\n",
       "      <td>40.4205886</td>\n",
       "      <td>-3.7058415</td>\n",
       "      <td>Miguel Moya</td>\n",
       "      <td>2</td>\n",
       "      <td>24</td>\n",
       "      <td>Centro</td>\n",
       "    </tr>\n",
       "    <tr>\n",
       "      <th>3</th>\n",
       "      <td>Plaza del Conde Suchil nº 2-4</td>\n",
       "      <td>4</td>\n",
       "      <td>40.4302937</td>\n",
       "      <td>-3.7069171</td>\n",
       "      <td>Plaza Conde Suchil</td>\n",
       "      <td>3</td>\n",
       "      <td>18</td>\n",
       "      <td>Chamberí</td>\n",
       "    </tr>\n",
       "    <tr>\n",
       "      <th>4</th>\n",
       "      <td>Calle Manuela Malasaña nº 5</td>\n",
       "      <td>5</td>\n",
       "      <td>40.4285524</td>\n",
       "      <td>-3.7025875</td>\n",
       "      <td>Malasaña</td>\n",
       "      <td>4</td>\n",
       "      <td>24</td>\n",
       "      <td>Centro</td>\n",
       "    </tr>\n",
       "  </tbody>\n",
       "</table>\n",
       "</div>"
      ],
      "text/plain": [
       "                         address  id    latitude   longitude  \\\n",
       "0            Puerta del Sol nº 1   1  40.4168961  -3.7024255   \n",
       "1            Puerta del Sol nº 1   2  40.4170009  -3.7024207   \n",
       "2         Calle Miguel Moya nº 1   3  40.4205886  -3.7058415   \n",
       "3  Plaza del Conde Suchil nº 2-4   4  40.4302937  -3.7069171   \n",
       "4    Calle Manuela Malasaña nº 5   5  40.4285524  -3.7025875   \n",
       "\n",
       "                 name number  total_bases neighbours  \n",
       "0    Puerta del Sol A     1a           24     Centro  \n",
       "1    Puerta del Sol B     1b           24     Centro  \n",
       "2         Miguel Moya      2           24     Centro  \n",
       "3  Plaza Conde Suchil      3           18   Chamberí  \n",
       "4            Malasaña      4           24     Centro  "
      ]
     },
     "execution_count": 24,
     "metadata": {},
     "output_type": "execute_result"
    }
   ],
   "source": [
    "df_stations.head()\n"
   ]
  },
  {
   "cell_type": "code",
   "execution_count": null,
   "metadata": {},
   "outputs": [],
   "source": []
  }
 ],
 "metadata": {
  "kernelspec": {
   "display_name": "Python 3",
   "language": "python",
   "name": "python3"
  },
  "language_info": {
   "codemirror_mode": {
    "name": "ipython",
    "version": 3
   },
   "file_extension": ".py",
   "mimetype": "text/x-python",
   "name": "python",
   "nbconvert_exporter": "python",
   "pygments_lexer": "ipython3",
   "version": "3.6.3"
  }
 },
 "nbformat": 4,
 "nbformat_minor": 2
}
