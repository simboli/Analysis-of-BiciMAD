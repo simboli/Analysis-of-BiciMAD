{
 "cells": [
  {
   "cell_type": "markdown",
   "metadata": {},
   "source": [
    "# Modules"
   ]
  },
  {
   "cell_type": "code",
   "execution_count": 1,
   "metadata": {},
   "outputs": [],
   "source": [
    "import pandas as pd\n",
    "import folium"
   ]
  },
  {
   "cell_type": "markdown",
   "metadata": {},
   "source": [
    "# Variables"
   ]
  },
  {
   "cell_type": "code",
   "execution_count": 2,
   "metadata": {},
   "outputs": [],
   "source": [
    "stations_FilePathCSV='/Users/nicolaesse/Documents/Data science/Py/Analisi biciclette Madrid/Stations analysis/df_stations.csv'"
   ]
  },
  {
   "cell_type": "markdown",
   "metadata": {},
   "source": [
    "# Loading data"
   ]
  },
  {
   "cell_type": "code",
   "execution_count": 3,
   "metadata": {},
   "outputs": [],
   "source": [
    "df_stations = pd.read_csv(stations_FilePathCSV, encoding='latin-1', sep=';')"
   ]
  },
  {
   "cell_type": "code",
   "execution_count": 4,
   "metadata": {},
   "outputs": [
    {
     "data": {
      "text/plain": [
       "['address',\n",
       " 'id',\n",
       " 'latitude',\n",
       " 'longitude',\n",
       " 'name',\n",
       " 'number',\n",
       " 'total_bases',\n",
       " 'neighbours']"
      ]
     },
     "execution_count": 4,
     "metadata": {},
     "output_type": "execute_result"
    }
   ],
   "source": [
    "list(df_stations)"
   ]
  },
  {
   "cell_type": "code",
   "execution_count": 5,
   "metadata": {},
   "outputs": [
    {
     "data": {
      "text/plain": [
       "(172, 8)"
      ]
     },
     "execution_count": 5,
     "metadata": {},
     "output_type": "execute_result"
    }
   ],
   "source": [
    "df_stations.shape"
   ]
  },
  {
   "cell_type": "markdown",
   "metadata": {},
   "source": [
    "# Mapping"
   ]
  },
  {
   "cell_type": "code",
   "execution_count": 6,
   "metadata": {},
   "outputs": [],
   "source": [
    "m = folium.Map([40.417000, -3.703000], zoom_start=13,tiles='http://{s}.tiles.wmflabs.org/bw-mapnik/{z}/{x}/{y}.png', attr=\"<a href=https://www.simboli.eu/>Simboli.EU</a>\")"
   ]
  },
  {
   "cell_type": "code",
   "execution_count": 7,
   "metadata": {},
   "outputs": [],
   "source": [
    "for index, row in df_stations.iterrows():\n",
    "    folium.Marker([float(row['latitude']), float(row['longitude'])],\n",
    "                  popup='<h4>Station '+row['name']+'</h4>\\\n",
    "                         <b>Number: </b>'+row['number']+'<br/>\\\n",
    "                         <b>Neighbours: </b>'+row['neighbours']+'<br/>\\\n",
    "                         <b>Total bases: </b>'+str(row['total_bases'])+'<br/>\\\n",
    "                         <b>Address: </b>'+row['address']+'<br/>\\\n",
    "                         <b>Latitude: </b>'+str(row['latitude'])[0:8]+'<br/>\\\n",
    "                         <b>Longitude: </b>'+str(row['longitude'])[0:8]+'<br/><br/>\\\n",
    "                         <a href=\"http://www.google.com/maps/place/'+str(row['latitude'])+','+str(row['longitude'])+'\">Open with Google Maps</a>',\n",
    "                  icon=folium.Icon(color='red' if row.neighbours == 'Centro' else 'orange', \n",
    "                                                      prefix='fa', icon='bicycle'),).add_to(m)           \n"
   ]
  },
  {
   "cell_type": "code",
   "execution_count": 8,
   "metadata": {},
   "outputs": [
    {
     "data": {
      "text/plain": [
       "<branca.element.Element at 0x10e2bb588>"
      ]
     },
     "execution_count": 8,
     "metadata": {},
     "output_type": "execute_result"
    }
   ],
   "source": [
    "legendHTML = '''\n",
    "    <style>@import url('https://fonts.googleapis.com/css?family=Roboto+Slab');</style>\n",
    "    <p style=\"font-family: 'Roboto Slab', sans-serif;color:blue;\">This map is part of the article <a href=\"http://www.simboli.eu/blog/lets-analyze-e-bike-sharing-stations-of-madrid/\">'let’s analyze e-bike sharing stations of Madrid'</a>.</p>\n",
    "\n",
    "    <div style=\"position: \n",
    "        fixed;\n",
    "        background-color:white;\n",
    "        bottom: 50px; \n",
    "        left: 50px; \n",
    "        width: 150px; \n",
    "        height: 90px; \n",
    "        border:2px solid black; \n",
    "        padding: 3px;\n",
    "        z-index:9999; \n",
    "        font-size:14px;\n",
    "        font-family:Aleo, Times New Roman\">Legend<br/>\n",
    "        <i style=\"color:red\">City center</i><br>\n",
    "        <i style=\"color:orange\">Other neighborhoods</i>\n",
    "    </div>\n",
    "'''\n",
    "m.get_root().html.add_child(folium.Element(legendHTML))"
   ]
  },
  {
   "cell_type": "code",
   "execution_count": 9,
   "metadata": {},
   "outputs": [
    {
     "data": {
      "text/plain": [
       "<branca.element.Element at 0x10e2bb588>"
      ]
     },
     "execution_count": 9,
     "metadata": {},
     "output_type": "execute_result"
    }
   ],
   "source": [
    "titleHTML = '''\n",
    "    <style>@import url('https://fonts.googleapis.com/css?family=Roboto+Slab');</style>\n",
    "    <div style=\"position: \n",
    "        fixed;\n",
    "        top: 50px; \n",
    "        left: 100px; \n",
    "        width: 450px; \n",
    "        height: 60px; \n",
    "        background-color: white\n",
    "        border:2px solid red; \n",
    "        padding: 3px;\n",
    "        z-index:9999; \n",
    "        font-size:13px;\n",
    "        font-family:font-family: 'Roboto Slab', sans-serif\">\n",
    "        <h3 style=\"text-shadow: 0 0 2px white; color:#0000b3\">Map of BiciMAD stations in Madrid</h3>\n",
    "    </div>\n",
    "'''\n",
    "m.get_root().html.add_child(folium.Element(titleHTML))"
   ]
  },
  {
   "cell_type": "code",
   "execution_count": 10,
   "metadata": {},
   "outputs": [],
   "source": [
    "m.save('map_stations.html')"
   ]
  }
 ],
 "metadata": {
  "kernelspec": {
   "display_name": "Python 3",
   "language": "python",
   "name": "python3"
  },
  "language_info": {
   "codemirror_mode": {
    "name": "ipython",
    "version": 3
   },
   "file_extension": ".py",
   "mimetype": "text/x-python",
   "name": "python",
   "nbconvert_exporter": "python",
   "pygments_lexer": "ipython3",
   "version": "3.6.3"
  }
 },
 "nbformat": 4,
 "nbformat_minor": 2
}
